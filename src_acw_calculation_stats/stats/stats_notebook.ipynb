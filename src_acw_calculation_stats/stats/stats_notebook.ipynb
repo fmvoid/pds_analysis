{
 "cells": [
  {
   "cell_type": "markdown",
   "metadata": {},
   "source": [
    "### Calculate ACW ratio between regions"
   ]
  },
  {
   "cell_type": "code",
   "execution_count": 41,
   "metadata": {},
   "outputs": [
    {
     "name": "stdout",
     "output_type": "stream",
     "text": [
      "/Users/fdjim/Desktop/PDS_CODE/analysis_codebase/results/acw_ratios\n"
     ]
    }
   ],
   "source": [
    "import os\n",
    "\n",
    "# Get the absolute path to the project root directory\n",
    "project_root = os.path.abspath(os.path.join(os.getcwd(), '..', '..', '..'))\n",
    "\n",
    "from stat_utils import calculate_acw_ratio\n",
    "\n",
    "# Define the paths\n",
    "csv_file_path = os.path.join(project_root, 'analysis_codebase', 'results', 'combined_acw_results_no_outliers.csv')\n",
    "acw_type = 'ACW_0' # 'ACW_0', 'ACW_50', 'ACW_Nadir'\n",
    "region1 = 'auditory'\n",
    "region2 = 'dmn'\n",
    "output_folder = os.path.join(project_root, 'analysis_codebase', 'results', 'acw_ratios')\n",
    "print(output_folder)\n",
    "# Ensure the output folder exists\n",
    "os.makedirs(output_folder, exist_ok=True)\n"
   ]
  },
  {
   "cell_type": "code",
   "execution_count": 42,
   "metadata": {},
   "outputs": [
    {
     "name": "stdout",
     "output_type": "stream",
     "text": [
      "Debug: csv_file_path = /Users/fdjim/Desktop/PDS_CODE/analysis_codebase/results/combined_acw_results_no_outliers.csv\n",
      "Debug: acw_type = ACW_0\n",
      "Debug: region1 = auditory\n",
      "Debug: region2 = dmn\n",
      "Debug: output_folder = /Users/fdjim/Desktop/PDS_CODE/analysis_codebase/results/acw_ratios\n",
      "Debug: About to create directory: /Users/fdjim/Desktop/PDS_CODE/analysis_codebase/results/acw_ratios\n",
      "Debug: Attempting to save file: /Users/fdjim/Desktop/PDS_CODE/analysis_codebase/results/acw_ratios/acw_ratio_auditory_dmn_ACW_0.csv\n",
      "ACW ratio between auditory and dmn for ACW_0 saved to: /Users/fdjim/Desktop/PDS_CODE/analysis_codebase/results/acw_ratios/acw_ratio_auditory_dmn_ACW_0.csv\n",
      "Statistics saved to: /Users/fdjim/Desktop/PDS_CODE/analysis_codebase/results/acw_ratios/stats_ACW_Ratio_acw_ratio_auditory_dmn_ACW_0.csv\n"
     ]
    },
    {
     "data": {
      "text/html": [
       "<div>\n",
       "<style scoped>\n",
       "    .dataframe tbody tr th:only-of-type {\n",
       "        vertical-align: middle;\n",
       "    }\n",
       "\n",
       "    .dataframe tbody tr th {\n",
       "        vertical-align: top;\n",
       "    }\n",
       "\n",
       "    .dataframe thead th {\n",
       "        text-align: right;\n",
       "    }\n",
       "</style>\n",
       "<table border=\"1\" class=\"dataframe\">\n",
       "  <thead>\n",
       "    <tr style=\"text-align: right;\">\n",
       "      <th></th>\n",
       "      <th>mean</th>\n",
       "      <th>median</th>\n",
       "      <th>std</th>\n",
       "      <th>variance</th>\n",
       "      <th>iqr</th>\n",
       "      <th>min</th>\n",
       "      <th>max</th>\n",
       "    </tr>\n",
       "    <tr>\n",
       "      <th>Group</th>\n",
       "      <th></th>\n",
       "      <th></th>\n",
       "      <th></th>\n",
       "      <th></th>\n",
       "      <th></th>\n",
       "      <th></th>\n",
       "      <th></th>\n",
       "    </tr>\n",
       "  </thead>\n",
       "  <tbody>\n",
       "    <tr>\n",
       "      <th>HC</th>\n",
       "      <td>0.919352</td>\n",
       "      <td>0.866071</td>\n",
       "      <td>0.334366</td>\n",
       "      <td>0.111800</td>\n",
       "      <td>0.321786</td>\n",
       "      <td>0.535714</td>\n",
       "      <td>1.666667</td>\n",
       "    </tr>\n",
       "    <tr>\n",
       "      <th>MDD</th>\n",
       "      <td>1.020332</td>\n",
       "      <td>0.954545</td>\n",
       "      <td>0.322430</td>\n",
       "      <td>0.103961</td>\n",
       "      <td>0.282212</td>\n",
       "      <td>0.403846</td>\n",
       "      <td>1.736842</td>\n",
       "    </tr>\n",
       "    <tr>\n",
       "      <th>SZ</th>\n",
       "      <td>1.010170</td>\n",
       "      <td>0.928571</td>\n",
       "      <td>0.388857</td>\n",
       "      <td>0.151210</td>\n",
       "      <td>0.336695</td>\n",
       "      <td>0.428571</td>\n",
       "      <td>2.100000</td>\n",
       "    </tr>\n",
       "  </tbody>\n",
       "</table>\n",
       "</div>"
      ],
      "text/plain": [
       "           mean    median       std  variance       iqr       min       max\n",
       "Group                                                                      \n",
       "HC     0.919352  0.866071  0.334366  0.111800  0.321786  0.535714  1.666667\n",
       "MDD    1.020332  0.954545  0.322430  0.103961  0.282212  0.403846  1.736842\n",
       "SZ     1.010170  0.928571  0.388857  0.151210  0.336695  0.428571  2.100000"
      ]
     },
     "execution_count": 42,
     "metadata": {},
     "output_type": "execute_result"
    }
   ],
   "source": [
    "import pandas as pd\n",
    "from stat_utils import calculate_descriptive_statistics\n",
    "\n",
    "# Calculate ACW ratio\n",
    "calculate_acw_ratio(csv_file_path, acw_type, output_folder, region1, region2)\n",
    "\n",
    "ratio_file = os.path.join(output_folder, f'acw_ratio_{region1}_{region2}_{acw_type}.csv')\n",
    "ratio_df = pd.read_csv(ratio_file)\n",
    "ratio_df.head()\n",
    "acw_type_ratio = 'ACW_Ratio'\n",
    "calculate_descriptive_statistics(ratio_file, acw_type_ratio, output_folder)"
   ]
  },
  {
   "cell_type": "code",
   "execution_count": 43,
   "metadata": {},
   "outputs": [
    {
     "data": {
      "text/html": [
       "<div>\n",
       "<style scoped>\n",
       "    .dataframe tbody tr th:only-of-type {\n",
       "        vertical-align: middle;\n",
       "    }\n",
       "\n",
       "    .dataframe tbody tr th {\n",
       "        vertical-align: top;\n",
       "    }\n",
       "\n",
       "    .dataframe thead th {\n",
       "        text-align: right;\n",
       "    }\n",
       "</style>\n",
       "<table border=\"1\" class=\"dataframe\">\n",
       "  <thead>\n",
       "    <tr style=\"text-align: right;\">\n",
       "      <th></th>\n",
       "      <th>Subject</th>\n",
       "      <th>Group</th>\n",
       "      <th>ACW_Ratio</th>\n",
       "    </tr>\n",
       "  </thead>\n",
       "  <tbody>\n",
       "    <tr>\n",
       "      <th>0</th>\n",
       "      <td>sub-009C</td>\n",
       "      <td>HC</td>\n",
       "      <td>0.875000</td>\n",
       "    </tr>\n",
       "    <tr>\n",
       "      <th>1</th>\n",
       "      <td>sub-019C</td>\n",
       "      <td>HC</td>\n",
       "      <td>0.818182</td>\n",
       "    </tr>\n",
       "    <tr>\n",
       "      <th>2</th>\n",
       "      <td>sub-028C</td>\n",
       "      <td>HC</td>\n",
       "      <td>0.631579</td>\n",
       "    </tr>\n",
       "    <tr>\n",
       "      <th>3</th>\n",
       "      <td>sub-031C</td>\n",
       "      <td>HC</td>\n",
       "      <td>0.571429</td>\n",
       "    </tr>\n",
       "    <tr>\n",
       "      <th>4</th>\n",
       "      <td>sub-026C</td>\n",
       "      <td>HC</td>\n",
       "      <td>0.600000</td>\n",
       "    </tr>\n",
       "  </tbody>\n",
       "</table>\n",
       "</div>"
      ],
      "text/plain": [
       "    Subject Group  ACW_Ratio\n",
       "0  sub-009C    HC   0.875000\n",
       "1  sub-019C    HC   0.818182\n",
       "2  sub-028C    HC   0.631579\n",
       "3  sub-031C    HC   0.571429\n",
       "4  sub-026C    HC   0.600000"
      ]
     },
     "execution_count": 43,
     "metadata": {},
     "output_type": "execute_result"
    }
   ],
   "source": [
    "ratio_df.head()"
   ]
  },
  {
   "cell_type": "code",
   "execution_count": 44,
   "metadata": {},
   "outputs": [
    {
     "name": "stdout",
     "output_type": "stream",
     "text": [
      "Shapiro-Wilk test results saved to: /Users/fdjim/Desktop/PDS_CODE/analysis_codebase/results/acw_ratios/shapiro_test_ACW_Ratio_HC.csv\n",
      "Q-Q plots saved in: /Users/fdjim/Desktop/PDS_CODE/analysis_codebase/results/acw_ratios\n"
     ]
    },
    {
     "data": {
      "text/html": [
       "<div>\n",
       "<style scoped>\n",
       "    .dataframe tbody tr th:only-of-type {\n",
       "        vertical-align: middle;\n",
       "    }\n",
       "\n",
       "    .dataframe tbody tr th {\n",
       "        vertical-align: top;\n",
       "    }\n",
       "\n",
       "    .dataframe thead th {\n",
       "        text-align: right;\n",
       "    }\n",
       "</style>\n",
       "<table border=\"1\" class=\"dataframe\">\n",
       "  <thead>\n",
       "    <tr style=\"text-align: right;\">\n",
       "      <th></th>\n",
       "      <th>Shapiro_statistic</th>\n",
       "      <th>Shapiro_p_value</th>\n",
       "    </tr>\n",
       "  </thead>\n",
       "  <tbody>\n",
       "    <tr>\n",
       "      <th>HC</th>\n",
       "      <td>0.858239</td>\n",
       "      <td>0.007348</td>\n",
       "    </tr>\n",
       "    <tr>\n",
       "      <th>MDD</th>\n",
       "      <td>0.951778</td>\n",
       "      <td>0.453586</td>\n",
       "    </tr>\n",
       "    <tr>\n",
       "      <th>SZ</th>\n",
       "      <td>0.911969</td>\n",
       "      <td>0.080456</td>\n",
       "    </tr>\n",
       "  </tbody>\n",
       "</table>\n",
       "</div>"
      ],
      "text/plain": [
       "     Shapiro_statistic  Shapiro_p_value\n",
       "HC            0.858239         0.007348\n",
       "MDD           0.951778         0.453586\n",
       "SZ            0.911969         0.080456"
      ]
     },
     "execution_count": 44,
     "metadata": {},
     "output_type": "execute_result"
    }
   ],
   "source": [
    "from stat_utils import check_normality\n",
    "\n",
    "check_normality(ratio_file, acw_type_ratio, output_folder)"
   ]
  },
  {
   "cell_type": "code",
   "execution_count": 45,
   "metadata": {},
   "outputs": [
    {
     "name": "stdout",
     "output_type": "stream",
     "text": [
      "\n",
      "Welch's ANOVA results for ACW_Ratio:\n",
      "Source  ddof1     ddof2       F    p-unc      np2\n",
      " Group      2 35.710752 0.51734 0.600503 0.017823\n",
      "\n",
      "Welch's ANOVA results saved to: /Users/fdjim/Desktop/PDS_CODE/analysis_codebase/results/acw_ratios/welch_anova_ACW_Ratio.csv\n",
      "  Source  ddof1      ddof2        F     p-unc       np2\n",
      "0  Group      2  35.710752  0.51734  0.600503  0.017823\n"
     ]
    }
   ],
   "source": [
    "from stat_utils import perform_one_way_welch_anova\n",
    "\n",
    "# Perform one-way Welch's ANOVA on the ACW ratio data\n",
    "anova_results = perform_one_way_welch_anova(ratio_file, acw_type_ratio, output_folder)\n",
    "\n",
    "# Display the results\n",
    "print(anova_results)\n"
   ]
  }
 ],
 "metadata": {
  "kernelspec": {
   "display_name": "Python 3",
   "language": "python",
   "name": "python3"
  },
  "language_info": {
   "codemirror_mode": {
    "name": "ipython",
    "version": 3
   },
   "file_extension": ".py",
   "mimetype": "text/x-python",
   "name": "python",
   "nbconvert_exporter": "python",
   "pygments_lexer": "ipython3",
   "version": "3.8.20"
  }
 },
 "nbformat": 4,
 "nbformat_minor": 2
}
